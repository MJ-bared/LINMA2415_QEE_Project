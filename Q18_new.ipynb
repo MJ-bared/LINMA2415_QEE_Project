{
 "cells": [
  {
   "cell_type": "code",
   "execution_count": 1,
   "metadata": {},
   "outputs": [],
   "source": [
    "using CSV, DataFrames, Dates, HiGHS, JuMP, Statistics, Plots"
   ]
  },
  {
   "cell_type": "code",
   "execution_count": 2,
   "metadata": {},
   "outputs": [
    {
     "name": "stdout",
     "output_type": "stream",
     "text": [
      "(8760,)\n",
      "[56250.0, 54300.0, 53600.0, 50000.0, 47100.0]\n",
      "(8760,)\n",
      "[56250.0, 54300.0, 53600.0, 50000.0, 47100.0]\n",
      "[0.0, 0.0, 0.0, 0.0, 0.0, 0.0, 0.0, 0.001, 0.067, 0.218]\n",
      "[0.12594, 0.123693, 0.124232, 0.13045, 0.140045, 0.136766, 0.129185, 0.135791, 0.152821, 0.14136]\n"
     ]
    }
   ],
   "source": [
    "df = CSV.read(\"data.csv\", DataFrame)\n",
    "D_t = df[!, \"FR_load_forecast_entsoe_transparency\"]\n",
    "\n",
    "println(size(D_t))\n",
    "println(first(D_t, 5))\n",
    "\n",
    "df = CSV.read(\"data.csv\", DataFrame)\n",
    "D_t = df[!, \"FR_load_forecast_entsoe_transparency\"]\n",
    "\n",
    "println(size(D_t))\n",
    "println(first(D_t, 5))\n",
    "        \n",
    "file_path = \"capacity_pv.csv\"\n",
    "df = CSV.File(file_path; header=true) |> DataFrame\n",
    "capacity_pv = Array(df)\n",
    "println(first(capacity_pv, 10))\n",
    "    \n",
    "file_path = \"capacity_wind.csv\"\n",
    "df = CSV.File(file_path; header=true) |> DataFrame\n",
    "capacity_wind = Array(df)\n",
    "println(first(capacity_wind, 10))"
   ]
  },
  {
   "cell_type": "code",
   "execution_count": 3,
   "metadata": {},
   "outputs": [
    {
     "data": {
      "text/plain": [
       "17212-element Vector{Union{Missing, Int64}}:\n",
       " 489\n",
       " 922\n",
       " 630\n",
       " 416\n",
       " 356\n",
       " 547\n",
       "  68\n",
       " 200\n",
       " 408\n",
       " 362\n",
       "   ⋮\n",
       " 486\n",
       " 226\n",
       " 363\n",
       " 128\n",
       " 241\n",
       " 288\n",
       "  47\n",
       " 702\n",
       " 506"
      ]
     },
     "metadata": {},
     "output_type": "display_data"
    }
   ],
   "source": [
    "file_path = \"Imbalance.csv\"\n",
    "data = CSV.read(file_path, DataFrame)\n",
    "\n",
    "# The column containing the target data\n",
    "imbalance_column_name = \"Total Imbalance [MWh] - SCA|FR\"\n",
    "\n",
    "# Check if the column is present\n",
    "if !(imbalance_column_name in names(data))\n",
    "    error(\"Column '$imbalance_column_name' not found in the data.\")\n",
    "end\n",
    "\n",
    "# Extract the \"Total Imbalance [MWh] - SCA|FR\" data\n",
    "imbalance_data = data[!, imbalance_column_name]\n",
    "\n",
    "# Convert non-numeric values to missing values\n",
    "function to_int(value)\n",
    "    try\n",
    "        return parse(Int, value)\n",
    "    catch\n",
    "        return missing\n",
    "    end\n",
    "end\n",
    "\n",
    "# Apply the conversion function and filter out missing values\n",
    "imbalance = filter(!ismissing, to_int.(imbalance_data))\n",
    "\n",
    "# imbalance = first(imbalance,8760*2)\n"
   ]
  },
  {
   "cell_type": "code",
   "execution_count": 5,
   "metadata": {},
   "outputs": [],
   "source": [
    "# # Step 6: Compute the integral under the ORDC curve using the rectangles method\n",
    "# discretization_step = 20\n",
    "# # ordc_utility = Float64[]\n",
    "# U_ORDC= Float64[]\n",
    "# for R in reserve_range\n",
    "#     # Define the interval for the current reserve R\n",
    "#     intervals = collect(0:discretization_step:R)\n",
    "    \n",
    "#     # Calculate the area under the curve for the current reserve R using rectangles method\n",
    "#     area = 0.0\n",
    "#     for i in 1:length(intervals)-1\n",
    "#         height = ordc_values[findfirst(x -> x ≥ intervals[i], reserve_range)]\n",
    "#         width = intervals[i+1] - intervals[i]\n",
    "#         area += height * width\n",
    "#     end\n",
    "#     # push!(ordc_utility, area)\n",
    "#     push!(U_ORDC, area)\n",
    "# end\n"
   ]
  },
  {
   "cell_type": "code",
   "execution_count": 6,
   "metadata": {},
   "outputs": [
    {
     "data": {
      "text/plain": [
       "260"
      ]
     },
     "metadata": {},
     "output_type": "display_data"
    }
   ],
   "source": [
    "# Step 6: Compute the integral under the ORDC curve using the rectangles method\n",
    "# Sort the data to calculate the cumulative probability\n",
    "# sorted_data = sort(imbalance)\n",
    "sorted_data = sort(vec(sum(reshape(imbalance, 2, :), dims=1)))\n",
    "\n",
    "function compute_lolp(reserve, sorted_imbalance)\n",
    "    # Probability of an imbalance higher than the given reserve\n",
    "    return mean(sorted_imbalance .> reserve)\n",
    "end\n",
    "\n",
    "\n",
    "discretization_step = 20\n",
    "# ordc_utility = Float64[]\n",
    "R_min_shift = minimum(sorted_data)\n",
    "R_max_shift = maximum(sorted_data)\n",
    "reserve_range = R_min_shift:discretization_step:R_max_shift\n",
    "\n",
    "\n",
    "lolp_values = [compute_lolp(R, sorted_data) for R in reserve_range]\n",
    "\n",
    "VOLL = 5000\n",
    "\n",
    "ordc_values = lolp_values .* VOLL\n",
    "\n",
    "U_ORDC= Float64[]\n",
    "for R in reserve_range\n",
    "    # Define the interval for the current reserve R\n",
    "    intervals = collect(0:discretization_step:R)\n",
    "    \n",
    "    # Calculate the area under the curve for the current reserve R using rectangles method\n",
    "    area = 0.0\n",
    "    for i in 1:length(intervals)-1\n",
    "        height = ordc_values[findfirst(x -> x ≥ intervals[i], reserve_range)]\n",
    "        width = intervals[i+1] - intervals[i]\n",
    "        area += height * width\n",
    "    end\n",
    "    # push!(ordc_utility, area)\n",
    "    push!(U_ORDC, area)\n",
    "end\n",
    "\n",
    "R_values = [R - R_min_shift for R in reserve_range]\n",
    "R_min = R_values[1]\n",
    "R_max = R_values[end]\n",
    "n_R_val = length(R_values)"
   ]
  },
  {
   "cell_type": "code",
   "execution_count": 7,
   "metadata": {},
   "outputs": [
    {
     "data": {
      "text/plain": [
       "0.9"
      ]
     },
     "metadata": {},
     "output_type": "display_data"
    }
   ],
   "source": [
    "# Constants and Data\n",
    "T = 8760\n",
    "lambda = 5000  \n",
    "cost_of_debt = 0.04\n",
    "cost_of_equity = 0.07\n",
    "corporate_tax = 0.30\n",
    "economic_life = 20\n",
    "carbon_tax = 50 \n",
    "\n",
    "capacity = Dict(\n",
    "    \"Coal\" => 1,\n",
    "    \"CCGT\" => 1,\n",
    "    \"OCGT\" => 1,\n",
    "    \"Onshore Wind\" => capacity_wind,\n",
    "    \"Offshore Wind\" => capacity_wind,\n",
    "    \"PV\" => capacity_pv\n",
    ")\n",
    "\n",
    "# Technologies data\n",
    "technologies = Dict(\n",
    "    \"Coal\" => (capex=2000*1000, om=0.03, debt_ratio=0.62, heat_rate=2.4, EA=175.2252157*1000, price =5, C=12, emissions=1.4),\n",
    "    \"CCGT\" => (capex=950*1000, om=0.03, debt_ratio=0.56, heat_rate=1.62, EA=85.60445144*1000, price =30, C=48.6, emissions=0.5),\n",
    "    \"OCGT\" => (capex=700*1000, om=0.03, debt_ratio=0.6, heat_rate=2.5, EA=61.91153839*1000, price =30, C=75, emissions=0.6),\n",
    "    \"Onshore Wind\" => (capex=700*1000, om=0.03, debt_ratio=0.7, heat_rate=0, EA=58.99797384*1000, price =0, C=0, emissions=0.0),\n",
    "    \"Offshore Wind\" => (capex=1300*1000, om=0.03, debt_ratio=0.7, heat_rate=0, EA=109.5676657*1000, price =0, C=0, emissions=0.0),\n",
    "    \"PV\" => (capex=400*1000, om=0.03, debt_ratio=0.8, heat_rate=0, EA=32.04823387*1000, price =0, C=0, emissions=0.0)\n",
    ")\n",
    "\n",
    "technologies_t = Dict(\n",
    "    \"Coal\" => (capex=2000*1000, om=0.03, debt_ratio=0.62, heat_rate=2.4, EA=175.2252157*1000, price =5, C=12, emissions=1.4),\n",
    "    \"CCGT\" => (capex=950*1000, om=0.03, debt_ratio=0.56, heat_rate=1.62, EA=85.60445144*1000, price =30, C=48.6, emissions=0.5),\n",
    "    \"OCGT\" => (capex=700*1000, om=0.03, debt_ratio=0.6, heat_rate=2.5, EA=61.91153839*1000, price =30, C=75, emissions=0.6)\n",
    ")\n",
    "\n",
    "#Battery data\n",
    "F_b=6*1000/20\n",
    "A_b=1.620627574*1000\n",
    "eta=0.9"
   ]
  },
  {
   "cell_type": "code",
   "execution_count": 8,
   "metadata": {},
   "outputs": [],
   "source": [
    "T = 8760\n",
    "model = Model(HiGHS.Optimizer)\n",
    "\n",
    "\n",
    "@variable(model, k[g in keys(technologies)] >= 0)  # Installed capacity\n",
    "@variable(model, p[g in keys(technologies), t=1:T] >= 0)  # Hourly production\n",
    "@variable(model, r[g in keys(technologies_t), t=1:T] >= 0)  # Hourly reserve # seulement pour les thermiques\n",
    "# @variable(model, R[t=1:T]>=0) #Total Hourly Reserve\n",
    "@variable(model, z[t=1:T, i=1:n_R_val], Bin)  # Binary variable for reserve selection\n",
    "@variable(model, d[t=1:T] >=0)\n",
    "#For Battery\n",
    "@variable(model, k_b>=0 ) \n",
    "@variable(model, e[1:T] >= 0)\n",
    "@variable(model, p_in[1:T] >=0)\n",
    "@variable(model, p_out[1:T] >=0)\n",
    "\n",
    "\n",
    "\n",
    "# Define the objective function\n",
    "@objective(model, Min,\n",
    "    sum((technologies[g].om * technologies[g].capex + technologies[g].EA) * k[g] +\n",
    "        sum(technologies[g].C * p[g, t] for t in 1:T) for g in keys(technologies)) +\n",
    "    (A_b + F_b) * k_b -\n",
    "    sum(lambda * d[t] for t in 1:T) +\n",
    "    carbon_tax * sum(technologies[g].emissions * sum(p[g, t] for t in 1:T) for g in keys(technologies)) -\n",
    "    sum(U_ORDC[i] * z[t, i] for t in 1:T, i = 1:n_R_val)\n",
    ")\n",
    "#- sum(U_ORDC[R[t]] for t=1:T))\n",
    "# + sum(LOLP[t] * VOLL * r[g, t] for g in keys(technologies_t), t=1:T) \n",
    "    \n",
    "@constraint(model, [ g in keys(technologies_t), t in 1:T], p[g,t] <= k[g] - r[g,t])\n",
    "@constraint(model, [ g in keys(technologies), t in 1:T], p[g,t] <= k[g])\n",
    "@constraint(model, [t in 1:T], d[t]<=D_t[t])\n",
    "@constraint(model, [t in 1:T], -d[t] + p_out[t] - p_in[t]  + sum( p[g,t] for g in keys(technologies))==0)\n",
    "@constraint(model, [t in 1:T], e[t]<= 4*k_b)\n",
    "@constraint(model, [t in 1:T], p_in[t]<=k_b)\n",
    "@constraint(model, [t in 1:T], p_out[t]<=k_b)\n",
    "@constraint(model,  e[1]==0)\n",
    "@constraint(model, [t in 2:T], e[t]== e[t-1] + 1*(sqrt(eta)* p_in[t-1] - 1/sqrt(eta) * p_out[t-1]))\n",
    "for g in [\"Coal\", \"CCGT\", \"OCGT\"]\n",
    "    @constraint(model, [t in 1:T], p[g, t] + r[g, t] <= k[g])\n",
    "end\n",
    "for t in 1:T\n",
    "    @constraint(model, p[\"Onshore Wind\", t] <= capacity_wind[t]*k[\"Onshore Wind\"])\n",
    "    @constraint(model, p[\"Offshore Wind\", t] <= capacity_wind[t]*k[\"Offshore Wind\"])\n",
    "    @constraint(model, p[\"PV\", t] <= capacity_pv[t]*k[\"PV\"])\n",
    "end\n",
    "\n",
    "#reserve constraints\n",
    "@constraint(model, [t in 1:T], sum(r[g,t] for g in keys(technologies_t))==sum(R_values[i] * z[t, i] for i in 1:n_R_val))\n",
    "# Ensure exactly one `z[t, i]` is 1 for each `t`\n",
    "@constraint(model, [t = 1:T], sum(z[t, i] for i = 1:n_R_val) == 1)\n",
    "\n",
    "\n",
    "\n",
    "optimize!(model)\n",
    "\n",
    "print(\"Variables value, k:\",value.(k))\n",
    "print(\"Variables value, k_b:\",value.(k_b))\n",
    "# print(\"Variables value, d:\",value.(d))\n",
    "print(\"Objective value: \", objective_value(model))\n",
    "print(keys(technologies))"
   ]
  }
 ],
 "metadata": {
  "kernelspec": {
   "display_name": "Julia 1.10.0",
   "language": "julia",
   "name": "julia-1.10"
  },
  "language_info": {
   "file_extension": ".jl",
   "mimetype": "application/julia",
   "name": "julia",
   "version": "1.10.0"
  }
 },
 "nbformat": 4,
 "nbformat_minor": 2
}
