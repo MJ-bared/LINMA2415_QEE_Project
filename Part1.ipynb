{
 "cells": [
  {
   "cell_type": "code",
   "execution_count": 1,
   "metadata": {},
   "outputs": [],
   "source": [
    "using JuMP\n",
    "using Gurobi"
   ]
  },
  {
   "cell_type": "code",
   "execution_count": 2,
   "metadata": {},
   "outputs": [
    {
     "data": {
      "text/plain": [
       "3-element Vector{Int64}:\n",
       "  5\n",
       " 30\n",
       " 30"
      ]
     },
     "metadata": {},
     "output_type": "display_data"
    }
   ],
   "source": [
    "time_=8760\n",
    "F=[0.03*2000,0.03*950,0.03*700]\n",
    "EA=[175.2252157,85.60445144,61.91153839]\n",
    "C=[1,1,1]\n",
    "l=5000\n",
    "H=[2.4,1.62,2.5]\n",
    "P=[5,30,30]"
   ]
  },
  {
   "cell_type": "code",
   "execution_count": 3,
   "metadata": {},
   "outputs": [
    {
     "name": "stdout",
     "output_type": "stream",
     "text": [
      "(8760,)\n"
     ]
    }
   ],
   "source": [
    "using CSV\n",
    "using DataFrames\n",
    "\n",
    "df = CSV.read(\"data.csv\", DataFrame)\n",
    "D_t = df[!, \"FR_load_forecast_entsoe_transparency\"]\n",
    "println(size(D_t))"
   ]
  },
  {
   "cell_type": "code",
   "execution_count": 4,
   "metadata": {},
   "outputs": [
    {
     "name": "stdout",
     "output_type": "stream",
     "text": [
      "Set parameter Username\n",
      "Academic license - for non-commercial use only - expires 2024-10-31\n"
     ]
    },
    {
     "data": {
      "text/plain": [
       "8760-element Vector{ConstraintRef{Model, MathOptInterface.ConstraintIndex{MathOptInterface.ScalarAffineFunction{Float64}, MathOptInterface.EqualTo{Float64}}, ScalarShape}}:\n",
       " -p[1,1] - p[2,1] - p[3,1] + d[1] == 0\n",
       " -p[1,2] - p[2,2] - p[3,2] + d[2] == 0\n",
       " -p[1,3] - p[2,3] - p[3,3] + d[3] == 0\n",
       " -p[1,4] - p[2,4] - p[3,4] + d[4] == 0\n",
       " -p[1,5] - p[2,5] - p[3,5] + d[5] == 0\n",
       " -p[1,6] - p[2,6] - p[3,6] + d[6] == 0\n",
       " -p[1,7] - p[2,7] - p[3,7] + d[7] == 0\n",
       " -p[1,8] - p[2,8] - p[3,8] + d[8] == 0\n",
       " -p[1,9] - p[2,9] - p[3,9] + d[9] == 0\n",
       " -p[1,10] - p[2,10] - p[3,10] + d[10] == 0\n",
       " ⋮\n",
       " -p[1,8752] - p[2,8752] - p[3,8752] + d[8752] == 0\n",
       " -p[1,8753] - p[2,8753] - p[3,8753] + d[8753] == 0\n",
       " -p[1,8754] - p[2,8754] - p[3,8754] + d[8754] == 0\n",
       " -p[1,8755] - p[2,8755] - p[3,8755] + d[8755] == 0\n",
       " -p[1,8756] - p[2,8756] - p[3,8756] + d[8756] == 0\n",
       " -p[1,8757] - p[2,8757] - p[3,8757] + d[8757] == 0\n",
       " -p[1,8758] - p[2,8758] - p[3,8758] + d[8758] == 0\n",
       " -p[1,8759] - p[2,8759] - p[3,8759] + d[8759] == 0\n",
       " -p[1,8760] - p[2,8760] - p[3,8760] + d[8760] == 0"
      ]
     },
     "metadata": {},
     "output_type": "display_data"
    }
   ],
   "source": [
    "model=Model(Gurobi.Optimizer)\n",
    "@variable(model,0<=p[1:3,1:time_])\n",
    "@variable(model,k[1:3])\n",
    "@variable(model,0<=d[1:time_])\n",
    "@objective(model,Min,sum((F[g]+EA[g])*k[g]+sum(H[g]*P[g]*p[g,i]/1000 for i in 1:time_) for g in 1:3)-sum(l*d[i] for i in 1:time_))\n",
    "@constraint(model,[g in 1:3,i in 1:time_],p[g,i] <= C[g,1]*k[g])\n",
    "@constraint(model,[i in 1:time_],d[i] <= D_t[i])\n",
    "@constraint(model,[i in 1:time_],d[i]-sum(p[g,i] for g in 1:3)==0)"
   ]
  },
  {
   "cell_type": "markdown",
   "metadata": {},
   "source": [
    "Question (i) : optimal installed capacity mix"
   ]
  },
  {
   "cell_type": "code",
   "execution_count": 5,
   "metadata": {},
   "outputs": [
    {
     "name": "stdout",
     "output_type": "stream",
     "text": [
      "Gurobi Optimizer version 10.0.3 build v10.0.3rc0 (win64)\n",
      "\n",
      "CPU model: Intel(R) Core(TM) i7-10510U CPU @ 1.80GHz, instruction set [SSE2|AVX|AVX2]\n",
      "Thread count: 4 physical cores, 8 logical processors, using up to 8 threads\n",
      "\n",
      "Optimize a model with 43800 rows, 35043 columns and 96360 nonzeros\n",
      "Model fingerprint: 0xe24638f8\n",
      "Coefficient statistics:\n",
      "  Matrix range     [1e+00, 1e+00]\n",
      "  Objective range  [1e-02, 5e+03]\n",
      "  Bounds range     [0e+00, 0e+00]\n",
      "  RHS range        [3e+04, 1e+05]\n",
      "Presolve removed 8760 rows and 8760 columns\n",
      "Presolve time: 0.06s\n",
      "Presolved: 35040 rows, 26283 columns, 78840 nonzeros\n",
      "\n",
      "Concurrent LP optimizer: dual simplex and barrier\n",
      "Showing barrier log only...\n",
      "\n",
      "Ordering time: 0.00s\n",
      "\n",
      "Barrier statistics:\n",
      " Dense cols : 3\n",
      " AA' NZ     : 6.834e+03\n",
      " Factor NZ  : 2.506e+04 (roughly 3 MB of memory)\n",
      " Factor Ops : 1.435e+05 (less than 1 second per iteration)\n",
      " Threads    : 1\n",
      "\n",
      "                  Objective                Residual\n",
      "Iter       Primal          Dual         Primal    Dual     Compl     Time\n",
      "   0  -2.36005428e+12 -2.36272000e+12  2.20e+04 9.53e-01  9.99e+05     0s\n",
      "   1  -2.36012460e+12 -2.36122107e+12  6.37e-12 4.25e-12  1.07e+05     0s\n",
      "   2  -2.36014459e+12 -2.36019198e+12  1.82e-12 1.10e-12  4.62e+03     0s\n",
      "   3  -2.36014517e+12 -2.36016523e+12  3.64e-12 1.09e-14  1.96e+03     0s\n",
      "   4  -2.36015379e+12 -2.36015651e+12  1.14e-09 1.44e-11  2.65e+02     0s\n",
      "   5  -2.36015466e+12 -2.36015580e+12  8.73e-11 2.15e-12  1.12e+02     0s\n",
      "   6  -2.36015487e+12 -2.36015546e+12  2.73e-11 7.64e-12  5.72e+01     0s\n",
      "   7  -2.36015496e+12 -2.36015538e+12  1.69e-09 4.11e-12  4.08e+01     0s\n",
      "   8  -2.36015502e+12 -2.36015531e+12  1.39e-09 4.90e-12  2.81e+01     0s\n",
      "   9  -2.36015504e+12 -2.36015526e+12  4.69e-10 5.94e-13  2.08e+01     0s\n",
      "  10  -2.36015506e+12 -2.36015523e+12  7.09e-11 5.70e-12  1.68e+01     0s\n",
      "  11  -2.36015507e+12 -2.36015519e+12  8.49e-10 2.62e-12  1.14e+01     0s\n",
      "\n",
      "Barrier performed 11 iterations in 0.12 seconds (0.09 work units)\n",
      "Barrier solve interrupted - model solved by another algorithm\n",
      "\n",
      "\n",
      "Solved with dual simplex\n",
      "\n",
      "Use crossover to convert LP symmetric solution to basic solution...\n",
      "Crossover log...\n",
      "\n",
      "       0 DPushes remaining with DInf 0.0000000e+00                 0s\n",
      "\n",
      "       1 PPushes remaining with PInf 0.0000000e+00                 0s\n",
      "       0 PPushes remaining with PInf 0.0000000e+00                 0s\n",
      "\n",
      "  Push phase complete: Pinf 0.0000000e+00, Dinf 3.8080650e-14      0s\n",
      "\n",
      "Iteration    Objective       Primal Inf.    Dual Inf.      Time\n",
      "    2219   -2.3601551e+12   0.000000e+00   0.000000e+00      0s\n",
      "\n",
      "Solved in 2219 iterations and 0.16 seconds (0.20 work units)\n",
      "Optimal objective -2.360155095e+12\n",
      "\n",
      "User-callback calls 155, time in user-callback 0.01 sec\n",
      "Variables value:[55800.0, 13200.0, 26150.0]\n",
      "Objective value: -2.360155094853378e12\n"
     ]
    }
   ],
   "source": [
    "optimize!(model)\n",
    "println(\"Variables value:\",JuMP.value.(k))\n",
    "println(\"Objective value: \", objective_value(model))"
   ]
  },
  {
   "cell_type": "markdown",
   "metadata": {},
   "source": [
    "Question (ii) : share of each technology in the effective production"
   ]
  },
  {
   "cell_type": "code",
   "execution_count": 6,
   "metadata": {},
   "outputs": [
    {
     "name": "stdout",
     "output_type": "stream",
     "text": [
      "ptot : 4.72035818e8\n",
      "p1 : 4.3547595e8\n",
      "p2 : 2.92589925e7\n",
      "p3 : 7.3008755e6\n",
      "share of p1 : 0.9225485299931201\n",
      "share of p2 : 0.06198468714507593\n",
      "share of p3 : 0.015466782861803932\n"
     ]
    }
   ],
   "source": [
    "p1=sum(JuMP.value.(p[1,t]) for t in 1:8760)\n",
    "p2=sum(JuMP.value.(p[2,t]) for t in 1:8760)\n",
    "p3=sum(JuMP.value.(p[3,t]) for t in 1:8760)\n",
    "total=sum(JuMP.value.(d[t]) for t in 1:8760)\n",
    "println(\"ptot : \",total)\n",
    "println(\"p1 : \",p1)\n",
    "println(\"p2 : \",p2)\n",
    "println(\"p3 : \",p3)\n",
    "println(\"share of p1 : \",p1/total)\n",
    "println(\"share of p2 : \",p2/total)\n",
    "println(\"share of p3 : \",p3/total)"
   ]
  },
  {
   "cell_type": "markdown",
   "metadata": {},
   "source": [
    "Question (iii) : total production and investment cost"
   ]
  },
  {
   "cell_type": "code",
   "execution_count": 7,
   "metadata": {},
   "outputs": [
    {
     "data": {
      "text/plain": [
       "2.3995146621966127e7"
      ]
     },
     "metadata": {},
     "output_type": "display_data"
    }
   ],
   "source": [
    "cost=sum((EA[g]+F[g])*JuMP.value.(k[g])+sum(H[g]*P[g]/1000*JuMP.value.(p[g,i]) for i in 1:time_)  for g in 1:3)"
   ]
  },
  {
   "cell_type": "markdown",
   "metadata": {},
   "source": [
    "Question (iv) : total CO2 emitted by your system"
   ]
  },
  {
   "cell_type": "code",
   "execution_count": 8,
   "metadata": {},
   "outputs": [
    {
     "data": {
      "text/plain": [
       "6.2867635155e8"
      ]
     },
     "metadata": {},
     "output_type": "display_data"
    }
   ],
   "source": [
    "CO2=[1.4,0.5,0.6]\n",
    "production=[p1,p2,p3]\n",
    "emissions= sum(CO2[t]*production[t,1] for t in 1:3)"
   ]
  },
  {
   "cell_type": "markdown",
   "metadata": {},
   "source": [
    "Question (v) :  amount of load curtailment"
   ]
  },
  {
   "cell_type": "code",
   "execution_count": 9,
   "metadata": {},
   "outputs": [
    {
     "data": {
      "text/plain": [
       "0.0"
      ]
     },
     "metadata": {},
     "output_type": "display_data"
    }
   ],
   "source": [
    "sum(max(0, D_t[t] - sum(JuMP.value(p[g, t]) for g in 1:3)) for t in 1:time_)"
   ]
  },
  {
   "cell_type": "markdown",
   "metadata": {},
   "source": [
    "Question (vi) : total profit of each technology"
   ]
  },
  {
   "cell_type": "code",
   "execution_count": 10,
   "metadata": {},
   "outputs": [
    {
     "name": "stdout",
     "output_type": "stream",
     "text": [
      "[2.1590284715640225e9; 1.4336679670549178e8; 3.3788675108601496e7;;]\n"
     ]
    }
   ],
   "source": [
    "profit=zeros(3,1)\n",
    "for g in 1:3\n",
    "    profit[g,1] = -(EA[g]+F[g])*JuMP.value.(k[g])-sum((H[g]*P[g]-l)/1000*JuMP.value.(p[g,i]) for i in 1:time_) \n",
    "end\n",
    "println(profit)"
   ]
  },
  {
   "cell_type": "markdown",
   "metadata": {},
   "source": [
    "LCOE"
   ]
  },
  {
   "cell_type": "code",
   "execution_count": 11,
   "metadata": {},
   "outputs": [
    {
     "name": "stdout",
     "output_type": "stream",
     "text": [
      "[42.14073919824874; 100.07746488564223; 371.96941536648586;;]\n"
     ]
    }
   ],
   "source": [
    "LCOE=zeros(3,1)\n",
    "for g in 1:3\n",
    "    LCOE[g,1]=(((EA[g]+F[g])*JuMP.value.(k[g]))+(sum((H[g]*P[g])/1000*JuMP.value.(p[g,i]) for i in 1:time_)))*1000/production[g]\n",
    "end\n",
    "println(LCOE)"
   ]
  }
 ],
 "metadata": {
  "kernelspec": {
   "display_name": "Julia 1.9.3",
   "language": "julia",
   "name": "julia-1.9"
  },
  "language_info": {
   "file_extension": ".jl",
   "mimetype": "application/julia",
   "name": "julia",
   "version": "1.9.3"
  }
 },
 "nbformat": 4,
 "nbformat_minor": 2
}
