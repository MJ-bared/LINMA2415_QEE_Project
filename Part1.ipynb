{
 "cells": [
  {
   "cell_type": "code",
   "execution_count": 43,
   "metadata": {},
   "outputs": [],
   "source": [
    "using JuMP\n",
    "using Gurobi"
   ]
  },
  {
   "cell_type": "code",
   "execution_count": 44,
   "metadata": {},
   "outputs": [
    {
     "data": {
      "text/plain": [
       "3-element Vector{Int64}:\n",
       "  5\n",
       " 30\n",
       " 30"
      ]
     },
     "execution_count": 44,
     "metadata": {},
     "output_type": "execute_result"
    }
   ],
   "source": [
    "time_=8760\n",
    "F=[0.03*2000,0.03*950,0.03*700]\n",
    "EA=[175.2252157,85.60445144,61.91153839]\n",
    "A=[122.657651,59.92311601,43.33807688]\n",
    "C=[1,1,1]\n",
    "l=5000\n",
    "H=[2.4,1.62,2.5]\n",
    "P=[5,30,30]"
   ]
  },
  {
   "cell_type": "code",
   "execution_count": 45,
   "metadata": {},
   "outputs": [
    {
     "name": "stdout",
     "output_type": "stream",
     "text": [
      "(8760,)\n"
     ]
    }
   ],
   "source": [
    "using CSV\n",
    "using DataFrames\n",
    "\n",
    "df = CSV.read(\"data.csv\", DataFrame)\n",
    "D_t = df[!, \"FR_load_forecast_entsoe_transparency\"]\n",
    "println(size(D_t))"
   ]
  },
  {
   "cell_type": "code",
   "execution_count": 46,
   "metadata": {},
   "outputs": [
    {
     "name": "stdout",
     "output_type": "stream",
     "text": [
      "Set parameter Username\n",
      "Academic license - for non-commercial use only - expires 2024-10-31\n"
     ]
    },
    {
     "data": {
      "text/plain": [
       "8760-element Vector{ConstraintRef{Model, MathOptInterface.ConstraintIndex{MathOptInterface.ScalarAffineFunction{Float64}, MathOptInterface.EqualTo{Float64}}, ScalarShape}}:\n",
       " -p[1,1] - p[2,1] - p[3,1] + d[1] == 0\n",
       " -p[1,2] - p[2,2] - p[3,2] + d[2] == 0\n",
       " -p[1,3] - p[2,3] - p[3,3] + d[3] == 0\n",
       " -p[1,4] - p[2,4] - p[3,4] + d[4] == 0\n",
       " -p[1,5] - p[2,5] - p[3,5] + d[5] == 0\n",
       " -p[1,6] - p[2,6] - p[3,6] + d[6] == 0\n",
       " -p[1,7] - p[2,7] - p[3,7] + d[7] == 0\n",
       " -p[1,8] - p[2,8] - p[3,8] + d[8] == 0\n",
       " -p[1,9] - p[2,9] - p[3,9] + d[9] == 0\n",
       " -p[1,10] - p[2,10] - p[3,10] + d[10] == 0\n",
       " -p[1,11] - p[2,11] - p[3,11] + d[11] == 0\n",
       " -p[1,12] - p[2,12] - p[3,12] + d[12] == 0\n",
       " -p[1,13] - p[2,13] - p[3,13] + d[13] == 0\n",
       " ⋮\n",
       " -p[1,8749] - p[2,8749] - p[3,8749] + d[8749] == 0\n",
       " -p[1,8750] - p[2,8750] - p[3,8750] + d[8750] == 0\n",
       " -p[1,8751] - p[2,8751] - p[3,8751] + d[8751] == 0\n",
       " -p[1,8752] - p[2,8752] - p[3,8752] + d[8752] == 0\n",
       " -p[1,8753] - p[2,8753] - p[3,8753] + d[8753] == 0\n",
       " -p[1,8754] - p[2,8754] - p[3,8754] + d[8754] == 0\n",
       " -p[1,8755] - p[2,8755] - p[3,8755] + d[8755] == 0\n",
       " -p[1,8756] - p[2,8756] - p[3,8756] + d[8756] == 0\n",
       " -p[1,8757] - p[2,8757] - p[3,8757] + d[8757] == 0\n",
       " -p[1,8758] - p[2,8758] - p[3,8758] + d[8758] == 0\n",
       " -p[1,8759] - p[2,8759] - p[3,8759] + d[8759] == 0\n",
       " -p[1,8760] - p[2,8760] - p[3,8760] + d[8760] == 0"
      ]
     },
     "execution_count": 46,
     "metadata": {},
     "output_type": "execute_result"
    }
   ],
   "source": [
    "model=Model(Gurobi.Optimizer)\n",
    "@variable(model,0<=p[1:3,1:time_])\n",
    "@variable(model,k[1:3])\n",
    "@variable(model,0<=d[1:time_])\n",
    "@objective(model,Min,sum((F[g]+A[g])*k[g]+sum(H[g]*P[g]*p[g,i] for i in 1:time_)  for g in 1:3)-sum(l*d[i] for i in 1:time_))\n",
    "@constraint(model,[g in 1:3,i in 1:time_],p[g,i] <= C[g,1]*k[g]/1000)\n",
    "@constraint(model,[i in 1:time_],d[i] <= D_t[i])\n",
    "@constraint(model,[i in 1:time_],d[i]-sum(p[g,i] for g in 1:3)==0)"
   ]
  },
  {
   "cell_type": "markdown",
   "metadata": {},
   "source": [
    "Question (i) : optimal installed capacity mix"
   ]
  },
  {
   "cell_type": "code",
   "execution_count": 47,
   "metadata": {},
   "outputs": [
    {
     "name": "stdout",
     "output_type": "stream",
     "text": [
      "Gurobi Optimizer version 10.0.3 build v10.0.3rc0 (win64)\n",
      "\n",
      "CPU model: Intel(R) Core(TM) i7-10510U CPU @ 1.80GHz, instruction set [SSE2|AVX|AVX2]\n",
      "Thread count: 4 physical cores, 8 logical processors, using up to 8 threads\n",
      "\n",
      "Optimize a model with 43800 rows, 35043 columns and 96360 nonzeros\n",
      "Model fingerprint: 0x51f1b0e2\n",
      "Coefficient statistics:\n",
      "  Matrix range     [1e-03, 1e+00]\n",
      "  Objective range  [1e+01, 5e+03]\n",
      "  Bounds range     [0e+00, 0e+00]\n",
      "  RHS range        [3e+04, 1e+05]\n",
      "Presolve removed 8760 rows and 0 columns\n",
      "Presolve time: 0.04s\n",
      "Presolved: 35040 rows, 35043 columns, 87600 nonzeros\n",
      "\n",
      "Concurrent LP optimizer: dual simplex and barrier\n",
      "Showing barrier log only...\n",
      "\n",
      "Ordering time: 0.00s\n",
      "\n",
      "Barrier statistics:\n",
      " Dense cols : 3\n",
      " AA' NZ     : 6.834e+03\n",
      " Factor NZ  : 2.506e+04 (roughly 4 MB of memory)\n",
      " Factor Ops : 1.435e+05 (less than 1 second per iteration)\n",
      " Threads    : 1\n",
      "\n",
      "                  Objective                Residual\n",
      "Iter       Primal          Dual         Primal    Dual     Compl     Time\n",
      "   0  -3.20831009e+12 -1.98527338e+13  1.75e+04 4.60e+04  4.67e+09     0s\n",
      "   1  -2.10646900e+12 -8.22416416e+12  6.15e+00 3.46e+03  5.10e+08     0s\n",
      "   2  -2.26880351e+12 -2.42884172e+12  4.55e-12 2.33e-10  1.32e+07     0s\n",
      "   3  -2.32209693e+12 -2.34794429e+12  3.64e-12 1.75e-10  2.13e+06     0s\n",
      "   4  -2.32750780e+12 -2.34312872e+12  6.73e-11 1.16e-10  1.28e+06     0s\n",
      "   5  -2.33629265e+12 -2.34232443e+12  3.89e-10 1.16e-10  4.96e+05     0s\n",
      "   6  -2.33837815e+12 -2.34195827e+12  1.89e-10 1.16e-10  2.94e+05     0s\n",
      "   7  -2.33938385e+12 -2.34103494e+12  2.42e-10 1.16e-10  1.36e+05     0s\n",
      "   8  -2.33977132e+12 -2.34047340e+12  7.51e-10 1.16e-10  5.77e+04     0s\n",
      "   9  -2.33998280e+12 -2.34036108e+12  3.17e-10 1.75e-10  3.11e+04     0s\n",
      "  10  -2.34005123e+12 -2.34030127e+12  9.57e-10 1.16e-10  2.06e+04     0s\n",
      "  11  -2.34008066e+12 -2.34024886e+12  1.10e-09 1.16e-10  1.38e+04     0s\n",
      "  12  -2.34010899e+12 -2.34022258e+12  5.06e-10 1.16e-10  9.34e+03     0s\n",
      "  13  -2.34012656e+12 -2.34020487e+12  8.17e-10 1.16e-10  6.44e+03     0s\n",
      "  14  -2.34013765e+12 -2.34018212e+12  9.19e-10 1.16e-10  3.66e+03     0s\n",
      "\n",
      "Barrier performed 14 iterations in 0.11 seconds (0.08 work units)\n",
      "Barrier solve interrupted - model solved by another algorithm\n",
      "\n",
      "\n",
      "Solved with dual simplex\n",
      "Iteration    Objective       Primal Inf.    Dual Inf.      Time\n",
      "    2144   -2.3401502e+12   0.000000e+00   0.000000e+00      0s\n",
      "\n",
      "Use crossover to convert LP symmetric solution to basic solution...\n",
      "Crossover log...\n",
      "\n",
      "       0 DPushes remaining with DInf 0.0000000e+00                 0s\n",
      "\n",
      "       0 PPushes remaining with PInf 0.0000000e+00                 0s\n",
      "\n",
      "  Push phase complete: Pinf 0.0000000e+00, Dinf 5.4973015e-08      0s\n",
      "\n",
      "Iteration    Objective       Primal Inf.    Dual Inf.      Time\n",
      "    2167   -2.3401502e+12   0.000000e+00   0.000000e+00      0s\n",
      "\n",
      "Solved in 2167 iterations and 0.16 seconds (0.18 work units)\n",
      "Optimal objective -2.340150188e+12\n",
      "\n",
      "User-callback calls 161, time in user-callback 0.00 sec\n",
      "Variables value:[6.02e7, 1.095e7, 1.965e7]\n",
      "Objective value: -2.340150187605198e12\n"
     ]
    }
   ],
   "source": [
    "optimize!(model)\n",
    "println(\"Variables value:\",JuMP.value.(k))\n",
    "println(\"Objective value: \", objective_value(model))"
   ]
  },
  {
   "cell_type": "markdown",
   "metadata": {},
   "source": [
    "Question (ii) : share of each technology in the effective production"
   ]
  },
  {
   "cell_type": "code",
   "execution_count": 49,
   "metadata": {},
   "outputs": [
    {
     "name": "stdout",
     "output_type": "stream",
     "text": [
      "ptot : 4.72008168e8\n",
      "p1 : 4.48377388e8\n",
      "p2 : 1.8585291e7\n",
      "p3 : 5.045489e6\n",
      "share of p1 : 0.9499356545033348\n",
      "share of p2 : 0.03937493513883429\n",
      "share of p3 : 0.010689410357830926\n"
     ]
    }
   ],
   "source": [
    "p1=sum(JuMP.value.(p[1,t]) for t in 1:8760)\n",
    "p2=sum(JuMP.value.(p[2,t]) for t in 1:8760)\n",
    "p3=sum(JuMP.value.(p[3,t]) for t in 1:8760)\n",
    "total=sum(JuMP.value.(d[t]) for t in 1:8760)\n",
    "println(\"ptot : \",total)\n",
    "println(\"p1 : \",p1)\n",
    "println(\"p2 : \",p2)\n",
    "println(\"p3 : \",p3)\n",
    "println(\"share of p1 : \",p1/total)\n",
    "println(\"share of p2 : \",p2/total)\n",
    "println(\"share of p3 : \",p3/total)"
   ]
  },
  {
   "cell_type": "markdown",
   "metadata": {},
   "source": [
    "Question (iii) : total production and investment cost"
   ]
  },
  {
   "cell_type": "code",
   "execution_count": 50,
   "metadata": {},
   "outputs": [
    {
     "data": {
      "text/plain": [
       "1.98906523948015e10"
      ]
     },
     "execution_count": 50,
     "metadata": {},
     "output_type": "execute_result"
    }
   ],
   "source": [
    "cost=sum((A[g]+F[g])*JuMP.value.(k[g])+sum(H[g]*P[g]*JuMP.value.(p[g,i]) for i in 1:time_)  for g in 1:3)"
   ]
  },
  {
   "cell_type": "markdown",
   "metadata": {},
   "source": [
    "Question (iv) : total CO2 emitted by your system"
   ]
  },
  {
   "cell_type": "code",
   "execution_count": 51,
   "metadata": {},
   "outputs": [
    {
     "data": {
      "text/plain": [
       "6.400482820999999e8"
      ]
     },
     "execution_count": 51,
     "metadata": {},
     "output_type": "execute_result"
    }
   ],
   "source": [
    "CO2=[1.4,0.5,0.6]\n",
    "emissions= sum(CO2[t]*production[t,1] for t in 1:3)"
   ]
  },
  {
   "cell_type": "markdown",
   "metadata": {},
   "source": [
    "Question (v) :  amount of load curtailment"
   ]
  },
  {
   "cell_type": "code",
   "execution_count": 52,
   "metadata": {},
   "outputs": [
    {
     "data": {
      "text/plain": [
       "27650.0"
      ]
     },
     "execution_count": 52,
     "metadata": {},
     "output_type": "execute_result"
    }
   ],
   "source": [
    "sum(max(0, D_t[t] - sum(JuMP.value(p[g, t]) for g in 1:3)) for t in 1:time_)"
   ]
  },
  {
   "cell_type": "markdown",
   "metadata": {},
   "source": [
    "Question (vi) : total profit of each technology"
   ]
  },
  {
   "cell_type": "code",
   "execution_count": 53,
   "metadata": {},
   "outputs": [
    {
     "name": "stdout",
     "output_type": "stream",
     "text": [
      "[2.2255104207538e12; 9.10549767370905e10; 2.3584790114308e10;;]\n"
     ]
    }
   ],
   "source": [
    "profit=zeros(3,1)\n",
    "for g in 1:3\n",
    "    profit[g,1] = -(A[g]+F[g])*JuMP.value.(k[g])-sum((H[g]*P[g]-l)*JuMP.value.(p[g,i]) for i in 1:time_) \n",
    "end\n",
    "println(profit)"
   ]
  },
  {
   "cell_type": "markdown",
   "metadata": {},
   "source": [
    "LCOE"
   ]
  },
  {
   "cell_type": "code",
   "execution_count": 55,
   "metadata": {},
   "outputs": [
    {
     "name": "stdout",
     "output_type": "stream",
     "text": [
      "[36.523963260609385; 100.69674254277214; 325.56901535054385;;]\n"
     ]
    }
   ],
   "source": [
    "LCOE=zeros(3,1)\n",
    "for g in 1:3\n",
    "    LCOE[g,1]=((A[g]+F[g])*JuMP.value.(k[g])+sum((H[g]*P[g])*JuMP.value.(p[g,i]) for i in 1:time_))/production[g]\n",
    "end\n",
    "println(LCOE)"
   ]
  }
 ],
 "metadata": {
  "kernelspec": {
   "display_name": "Julia 1.9.3",
   "language": "julia",
   "name": "julia-1.9"
  },
  "language_info": {
   "file_extension": ".jl",
   "mimetype": "application/julia",
   "name": "julia",
   "version": "1.9.3"
  }
 },
 "nbformat": 4,
 "nbformat_minor": 2
}
