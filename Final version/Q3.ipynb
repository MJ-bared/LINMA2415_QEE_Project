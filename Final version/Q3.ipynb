{
 "cells": [
  {
   "cell_type": "markdown",
   "metadata": {},
   "source": [
    "<div class=\"alert alert-block alert-info\">\n",
    "LINMA2415 - Project - Question 3\n",
    "\n",
    "- Colson Adeline 19752000\n",
    "    \n",
    "- Lhernould Benoit 77102200 \n",
    "\n",
    "- El Bared Mary Jo 48212000 \n",
    "  \n",
    "    \n",
    "</div>"
   ]
  },
  {
   "cell_type": "markdown",
   "metadata": {},
   "source": [
    "<div class=\"alert alert-block alert-info\">\n",
    "Load Data\n",
    "</div>"
   ]
  },
  {
   "cell_type": "code",
   "execution_count": 1,
   "metadata": {},
   "outputs": [],
   "source": [
    "using JuMP\n",
    "using HiGHS"
   ]
  },
  {
   "cell_type": "code",
   "execution_count": 2,
   "metadata": {},
   "outputs": [
    {
     "data": {
      "text/plain": [
       "3-element Vector{Int64}:\n",
       "  5\n",
       " 30\n",
       " 30"
      ]
     },
     "execution_count": 2,
     "metadata": {},
     "output_type": "execute_result"
    }
   ],
   "source": [
    "time_=8760\n",
    "F=[0.03*2000*1000,0.03*950*1000,0.03*700*1000]\n",
    "EA=[175.2252157*1000,85.60445144*1000,61.91153839*1000]\n",
    "C=[1,1,1]\n",
    "H=[2.4,1.62,2.5]\n",
    "P=[5,30,30]"
   ]
  },
  {
   "cell_type": "code",
   "execution_count": 3,
   "metadata": {},
   "outputs": [
    {
     "name": "stdout",
     "output_type": "stream",
     "text": [
      "(8760,)\n"
     ]
    }
   ],
   "source": [
    "using CSV\n",
    "using DataFrames\n",
    "\n",
    "df = CSV.read(\"data.csv\", DataFrame)\n",
    "D_t = df[!, \"FR_load_forecast_entsoe_transparency\"]\n",
    "println(size(D_t))"
   ]
  },
  {
   "cell_type": "markdown",
   "metadata": {},
   "source": [
    "<div class=\"alert alert-block alert-info\">\n",
    "Constants and data\n",
    "</div>"
   ]
  },
  {
   "cell_type": "code",
   "execution_count": 5,
   "metadata": {},
   "outputs": [
    {
     "data": {
      "text/plain": [
       "Dict{String, NamedTuple{(:capex, :om, :debt_ratio, :heat_rate, :EA, :price, :C, :emissions)}} with 3 entries:\n",
       "  \"Coal\" => (capex = 2000000, om = 0.03, debt_ratio = 0.62, heat_rate = 2.4, EA…\n",
       "  \"CCGT\" => (capex = 950000, om = 0.03, debt_ratio = 0.56, heat_rate = 1.62, EA…\n",
       "  \"OCGT\" => (capex = 700000, om = 0.03, debt_ratio = 0.6, heat_rate = 2.5, EA =…"
      ]
     },
     "execution_count": 5,
     "metadata": {},
     "output_type": "execute_result"
    }
   ],
   "source": [
    "# Constants and Data\n",
    "hours_per_year = 8760\n",
    "lambda = 5000  \n",
    "cost_of_debt = 0.04\n",
    "cost_of_equity = 0.07\n",
    "corporate_tax = 0.30\n",
    "economic_life = 20\n",
    "\n",
    "\n",
    "capacity = Dict(\n",
    "    \"Coal\" => 1,\n",
    "    \"CCGT\" => 1,\n",
    "    \"OCGT\" => 1\n",
    ")\n",
    "\n",
    "# Technologies data\n",
    "technologies = Dict(\n",
    "    \"Coal\" => (capex=2000*1000, om=0.03, debt_ratio=0.62, heat_rate=2.4, EA=175.2252157*1000, price =5, C=12, emissions=1.4),\n",
    "    \"CCGT\" => (capex=950*1000, om=0.03, debt_ratio=0.56, heat_rate=1.62, EA=85.60445144*1000, price =30, C=48.6, emissions=0.5),\n",
    "    \"OCGT\" => (capex=700*1000, om=0.03, debt_ratio=0.6, heat_rate=2.5, EA=61.91153839*1000, price =30, C=75, emissions=0.6)\n",
    ")"
   ]
  },
  {
   "cell_type": "markdown",
   "metadata": {},
   "source": [
    "<div class=\"alert alert-block alert-info\">\n",
    "Question 3\n",
    "</div>"
   ]
  },
  {
   "cell_type": "code",
   "execution_count": 9,
   "metadata": {},
   "outputs": [
    {
     "name": "stdout",
     "output_type": "stream",
     "text": [
      "Running HiGHS 1.5.3 [date: 1970-01-01, git hash: 45a127b78]\n",
      "Copyright (c) 2023 HiGHS under MIT licence terms\n",
      "Presolving model\n",
      "35040 rows, 35043 cols, 87600 nonzeros\n",
      "35040 rows, 35043 cols, 87600 nonzeros\n",
      "Presolve : Reductions: rows 35040(-8760); columns 35043(-0); elements 87600(-8760)\n",
      "Solving the presolved LP\n",
      "Using EKK dual simplex solver - serial\n",
      "  Iteration        Objective     Infeasibilities num(sum)\n",
      "          0     0.0000000000e+00 Ph1: 0(0) 0s\n",
      "      13269    -2.3364118414e+12 Pr: 0(0) 0s\n",
      "Solving the original LP from the solution after postsolve\n",
      "Model   status      : Optimal\n",
      "Simplex   iterations: 13269\n",
      "Objective value     : -2.3364118414e+12\n",
      "HiGHS run time      :          0.52\n",
      "\n",
      "\n",
      "\n",
      "\n",
      "Point I\n",
      "Optimal capacities (kW):\n",
      "Coal: 55800.0 MW\n",
      "CCGT: 13200.0 MW\n",
      "OCGT: 21450.0 MW\n",
      "\n",
      "\n",
      "Point II\n",
      "Share of each technology in effective production:\n",
      "Coal: 92.26127366216052 %\n",
      "CCGT: 6.198900109458634 %\n",
      "OCGT: 1.539826228380835 %\n",
      "\n",
      "\n",
      "Point III\n",
      "Total Production: 4.72002968e8 MWh\n",
      "Total Investment and Production Cost: €1.585833486415335e11\n",
      "\n",
      "\n",
      "Point IV\n",
      "\n",
      "Total CO2 Emissions: 6.2865664155e8 tons\n",
      "\n",
      "\n",
      "Point V\n",
      "Total Load Curtailment: 32850.0 MWh\n",
      "\n",
      "\n",
      "Point VI\n",
      "Profit for technology Coal: -1.0825200000000026e11\n",
      "Profit for technology CCGT: -1.2163799999999949e10\n",
      "Profit for technology OCGT: -1.456455e10\n"
     ]
    }
   ],
   "source": [
    "model=Model(HiGHS.Optimizer)\n",
    "@variable(model,0<=p[g in keys(technologies),1:hours_per_year])\n",
    "@variable(model,0<=k[g in keys(technologies)])\n",
    "@variable(model,0<=d[1:hours_per_year])\n",
    "@objective(model,Min,sum((technologies[g].om * technologies[g].capex + technologies[g].EA )*k[g]+sum(technologies[g].C*p[g,i] for i in 1:hours_per_year) for g in keys(technologies))-sum(lambda*d[i] for i in 1:hours_per_year))\n",
    "@constraint(model,[g in keys(technologies),i in 1:hours_per_year],p[g,i] <= k[g])\n",
    "@constraint(model,[i in 1:hours_per_year],d[i] <= D_t[i])\n",
    "@constraint(model,price[i in 1:hours_per_year],d[i]==sum(p[g,i] for g in keys(technologies)))\n",
    " \n",
    "optimize!(model)\n",
    "    \n",
    "######################################################################################################################\n",
    "println(\"\\n\")\n",
    "\n",
    "println(\"\\n\")\n",
    "println(\"Point I\")\n",
    "println(\"Optimal capacities (kW):\")\n",
    "total_production = 0\n",
    "production_by_tech = Dict(g => 0.0 for g in keys(technologies))\n",
    "for g in keys(technologies)\n",
    "    cap = value(k[g])  # This ensures 'cap' remains a floating-point number\n",
    "    println(\"$(g): $(cap) MW\")\n",
    "    for t in 1:hours_per_year\n",
    "        production_by_tech[g] += value(p[g, t])  # Accumulate as floating-point values\n",
    "        total_production += value(p[g, t])  # Keep total production as floating-point\n",
    "    end\n",
    "end\n",
    "\n",
    "println(\"\\n\")\n",
    "\n",
    "println(\"Point II\")\n",
    "println(\"Share of each technology in effective production:\")\n",
    "for g in keys(technologies)\n",
    "    share = production_by_tech[g] / total_production\n",
    "    println(\"$(g): $(share * 100) %\")\n",
    "end\n",
    "println(\"\\n\")\n",
    "\n",
    "\n",
    "println(\"Point III\")\n",
    "println(\"Total Production: $(total_production) MWh\")\n",
    "total_cost = sum((technologies[g].EA+technologies[g].capex)*value.(k[g])+sum((technologies[g].C)*value.(p[g,i]) for i in 1:hours_per_year)  for g in keys(technologies))\n",
    "println(\"Total Investment and Production Cost: €$(total_cost)\")\n",
    "println(\"\\n\")\n",
    "\n",
    "\n",
    "println(\"Point IV\")\n",
    "# CO2 Emissions data\n",
    "emissions = Dict(\n",
    "    \"Coal\" => 1.4,\n",
    "    \"CCGT\" => 0.5,\n",
    "    \"OCGT\" => 0.6\n",
    ")\n",
    "\n",
    "# Calculating CO2 emissionys\n",
    "total_co2_emissions = sum(emissions[g] * production_by_tech[g] for g in keys(production_by_tech))\n",
    "println(\"\\nTotal CO2 Emissions: $(total_co2_emissions) tons\")\n",
    "println(\"\\n\")\n",
    "\n",
    "\n",
    "println(\"Point V\")\n",
    "load_curtailment = sum(max(0, D_t[t] - sum(value(p[g, t]) for g in keys(technologies))) for t in 1:hours_per_year)\n",
    "println(\"Total Load Curtailment: $(load_curtailment) MWh\")\n",
    "println(\"\\n\")\n",
    "\n",
    "\n",
    "println(\"Point VI\")\n",
    "profit = Dict(g => 0.0 for g in keys(technologies))\n",
    "prices = [-JuMP.dual(price[i]) for i in 1:hours_per_year]\n",
    "\n",
    "for g in keys(technologies)\n",
    "    profit[g] = -(technologies[g].EA + technologies[g].capex) * value(k[g]) - \n",
    "                 sum((technologies[g].C - prices[i]) * value(p[g, i]) for i in 1:hours_per_year)\n",
    "end\n",
    "\n",
    "for g in keys(technologies)\n",
    "    println(\"Profit for technology $g: $(profit[g])\")\n",
    "end"
   ]
  }
 ],
 "metadata": {
  "kernelspec": {
   "display_name": "Julia 1.9.3",
   "language": "julia",
   "name": "julia-1.9"
  },
  "language_info": {
   "file_extension": ".jl",
   "mimetype": "application/julia",
   "name": "julia",
   "version": "1.9.3"
  }
 },
 "nbformat": 4,
 "nbformat_minor": 2
}
