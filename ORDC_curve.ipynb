{
 "cells": [
  {
   "cell_type": "code",
   "execution_count": 5,
   "metadata": {},
   "outputs": [
    {
     "data": {
      "text/plain": [
       "\"c:\\\\Users\\\\Mary Jo\\\\Desktop\\\\UCL\\\\Master\\\\Q2\\\\QEE\\\\LINMA2415_QEE_Project\\\\ORDC.png\""
      ]
     },
     "metadata": {},
     "output_type": "display_data"
    }
   ],
   "source": [
    "using Statistics, Distributions, Plots, CSV, DataFrames\n",
    "\n",
    "# Function to calculate LOLP given imbalance data and reserve level R\n",
    "function calculate_lolp(imbalances, R)\n",
    "    num_exceeding_R = count(imbalances .> R)\n",
    "    total_imbalances = length(imbalances)\n",
    "    return num_exceeding_R / total_imbalances\n",
    "end\n",
    "\n",
    "# Function to compute ORDC points for a range of reserve levels\n",
    "function compute_ordc(imbalances, voll, reserve_levels)\n",
    "    ordc_points = []\n",
    "    for R in reserve_levels\n",
    "        lolp = calculate_lolp(imbalances, R)\n",
    "        ordc_value = lolp * voll  # ORDC value using formula ORDC(Rt) = LOLP(Rt) * VOLL\n",
    "        push!(ordc_points, (R, ordc_value))\n",
    "    end\n",
    "    return ordc_points\n",
    "end\n",
    "\n",
    "df = CSV.read(\"Imbalance_202201010000-202301010000.csv\", DataFrame)\n",
    "imbalances = df[!, \"Total Imbalance [MWh] - SCA|FR\"]\n",
    "\n",
    "# Remove empty strings and specific string values (\"N/A\")\n",
    "filtered_imbalances = filter(x -> x != \"\" && x != \"N/A\", imbalances)\n",
    "\n",
    "# Convert filtered strings to numerical values (assuming all valid strings are numeric)\n",
    "imbalances = parse.(Float64, filtered_imbalances)\n",
    "\n",
    "voll = 5000.0  # Value of Lost Load (VOLL) in $/MWh\n",
    "reserve_levels = 0.0:10.0:1100.0  # Range of reserve levels to evaluate (in MW)\n",
    "\n",
    "# Compute ORDC points\n",
    "ordc_points = compute_ordc(imbalances, voll, reserve_levels)\n",
    "\n",
    "# Extract x (reserve levels) and y (ORDC values) from ORDC points\n",
    "x = [point[1] for point in ordc_points]\n",
    "y = [point[2] for point in ordc_points]\n",
    "\n",
    "# Plot ORDC curve\n",
    "ORDC_curve=plot(x, y, xlabel=\"Reserve Level (MW)\", ylabel=\"Operating Reserve Demand Cost\", label=\"ORDC\", legend=:topleft)\n",
    "title!(\"Operating Reserve Demand Curve (ORDC)\")\n",
    "savefig(ORDC_curve, \"ORDC.png\")\n"
   ]
  }
 ],
 "metadata": {
  "kernelspec": {
   "display_name": "Julia 1.10.0",
   "language": "julia",
   "name": "julia-1.10"
  },
  "language_info": {
   "file_extension": ".jl",
   "mimetype": "application/julia",
   "name": "julia",
   "version": "1.10.0"
  }
 },
 "nbformat": 4,
 "nbformat_minor": 2
}
